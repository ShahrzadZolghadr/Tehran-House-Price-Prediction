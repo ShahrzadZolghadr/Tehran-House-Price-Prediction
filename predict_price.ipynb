{
  "nbformat": 4,
  "nbformat_minor": 0,
  "metadata": {
    "colab": {
      "name": "Copy of Predict_Price.ipynb",
      "provenance": [],
      "collapsed_sections": [],
      "toc_visible": true
    },
    "kernelspec": {
      "name": "python3",
      "display_name": "Python 3"
    },
    "language_info": {
      "name": "python"
    }
  },
  "cells": [
    {
      "cell_type": "markdown",
      "metadata": {
        "id": "95sbwzthj_CC"
      },
      "source": [
        "# Tehran House Price prediction\n",
        "### The Dataset has been extracted by the House_Web_Scraper.py script from ihome.ir"
      ]
    },
    {
      "cell_type": "markdown",
      "metadata": {
        "id": "jhJRkrm6k30O"
      },
      "source": [
        "# Needed packages\n",
        "\n"
      ]
    },
    {
      "cell_type": "code",
      "metadata": {
        "id": "0biGsdfugm9x"
      },
      "source": [
        "import pandas as pd\n",
        "import re\n",
        "import numpy as np\n",
        "from termcolor import colored as cl\n",
        "import matplotlib.pyplot as plt\n",
        "import seaborn as sb\n",
        "from sklearn.model_selection import train_test_split\n",
        "from sklearn.linear_model import LinearRegression\n",
        "from sklearn.linear_model import Ridge\n",
        "from sklearn.metrics import mean_squared_error, r2_score"
      ],
      "execution_count": null,
      "outputs": []
    },
    {
      "cell_type": "markdown",
      "metadata": {
        "id": "8g3rNL7Qk9Bg"
      },
      "source": [
        "# Reading data"
      ]
    },
    {
      "cell_type": "code",
      "metadata": {
        "colab": {
          "base_uri": "https://localhost:8080/",
          "height": 844
        },
        "id": "rrQ3Wa_Jh76x",
        "outputId": "bc16cbfa-5d14-4048-cd8e-0a4b938bc20d"
      },
      "source": [
        "Houses_df = pd.read_csv('Houses.csv')\n",
        "Houses_df.head(20)"
      ],
      "execution_count": null,
      "outputs": [
        {
          "output_type": "execute_result",
          "data": {
            "text/html": [
              "<div>\n",
              "<style scoped>\n",
              "    .dataframe tbody tr th:only-of-type {\n",
              "        vertical-align: middle;\n",
              "    }\n",
              "\n",
              "    .dataframe tbody tr th {\n",
              "        vertical-align: top;\n",
              "    }\n",
              "\n",
              "    .dataframe thead th {\n",
              "        text-align: right;\n",
              "    }\n",
              "</style>\n",
              "<table border=\"1\" class=\"dataframe\">\n",
              "  <thead>\n",
              "    <tr style=\"text-align: right;\">\n",
              "      <th></th>\n",
              "      <th>Unnamed: 0</th>\n",
              "      <th>area</th>\n",
              "      <th>meters</th>\n",
              "      <th>years</th>\n",
              "      <th>rooms</th>\n",
              "      <th>elevator</th>\n",
              "      <th>storage_area</th>\n",
              "      <th>parking_space</th>\n",
              "      <th>floor</th>\n",
              "      <th>position</th>\n",
              "      <th>terrace</th>\n",
              "      <th>look</th>\n",
              "      <th>units_per_floor</th>\n",
              "      <th>floors</th>\n",
              "      <th>WC_num</th>\n",
              "      <th>master_num</th>\n",
              "      <th>WC_type</th>\n",
              "      <th>sell_value</th>\n",
              "    </tr>\n",
              "  </thead>\n",
              "  <tbody>\n",
              "    <tr>\n",
              "      <th>0</th>\n",
              "      <td>0</td>\n",
              "      <td>تهران-اختیاریه</td>\n",
              "      <td>100.0</td>\n",
              "      <td>نوساز</td>\n",
              "      <td>2</td>\n",
              "      <td>1</td>\n",
              "      <td>1</td>\n",
              "      <td>1</td>\n",
              "      <td>3</td>\n",
              "      <td>شمالی،جنوبی</td>\n",
              "      <td>دارد</td>\n",
              "      <td>سنگ</td>\n",
              "      <td>3عدد</td>\n",
              "      <td>5طبقه</td>\n",
              "      <td>2عدد</td>\n",
              "      <td>1عدد</td>\n",
              "      <td>ایرانیفرنگی</td>\n",
              "      <td>6میلیاردو400میلیونتومان</td>\n",
              "    </tr>\n",
              "    <tr>\n",
              "      <th>1</th>\n",
              "      <td>1</td>\n",
              "      <td>تهران-اندرزگو</td>\n",
              "      <td>190.0</td>\n",
              "      <td>1</td>\n",
              "      <td>3</td>\n",
              "      <td>2</td>\n",
              "      <td>1</td>\n",
              "      <td>2</td>\n",
              "      <td>9</td>\n",
              "      <td>جنوبی</td>\n",
              "      <td>دارد</td>\n",
              "      <td>رومی</td>\n",
              "      <td>1عدد</td>\n",
              "      <td>10طبقه</td>\n",
              "      <td>3عدد</td>\n",
              "      <td>1عدد</td>\n",
              "      <td>ایرانیفرنگی</td>\n",
              "      <td>19میلیاردتومان</td>\n",
              "    </tr>\n",
              "    <tr>\n",
              "      <th>2</th>\n",
              "      <td>2</td>\n",
              "      <td>تهران-اندرزگو</td>\n",
              "      <td>180.0</td>\n",
              "      <td>12</td>\n",
              "      <td>3</td>\n",
              "      <td>2</td>\n",
              "      <td>1</td>\n",
              "      <td>1</td>\n",
              "      <td>4</td>\n",
              "      <td>جنوبی</td>\n",
              "      <td>دارد</td>\n",
              "      <td>رومی</td>\n",
              "      <td>1عدد</td>\n",
              "      <td>10طبقه</td>\n",
              "      <td>3عدد</td>\n",
              "      <td>1عدد</td>\n",
              "      <td>ایرانیفرنگی</td>\n",
              "      <td>14میلیاردتومان</td>\n",
              "    </tr>\n",
              "    <tr>\n",
              "      <th>3</th>\n",
              "      <td>3</td>\n",
              "      <td>تهران-خیابانقیطریه</td>\n",
              "      <td>112.0</td>\n",
              "      <td>15</td>\n",
              "      <td>2</td>\n",
              "      <td>0</td>\n",
              "      <td>1</td>\n",
              "      <td>1</td>\n",
              "      <td>2</td>\n",
              "      <td>شمالی</td>\n",
              "      <td>دارد</td>\n",
              "      <td>آجر</td>\n",
              "      <td>3عدد</td>\n",
              "      <td>4طبقه</td>\n",
              "      <td>2عدد</td>\n",
              "      <td>NaN</td>\n",
              "      <td>ایرانیفرنگی</td>\n",
              "      <td>6میلیاردو100میلیونتومان</td>\n",
              "    </tr>\n",
              "    <tr>\n",
              "      <th>4</th>\n",
              "      <td>4</td>\n",
              "      <td>تهران-اندرزگو</td>\n",
              "      <td>150.0</td>\n",
              "      <td>6</td>\n",
              "      <td>3</td>\n",
              "      <td>1</td>\n",
              "      <td>1</td>\n",
              "      <td>2</td>\n",
              "      <td>3</td>\n",
              "      <td>شمالی،جنوبی</td>\n",
              "      <td>دارد</td>\n",
              "      <td>سنگ</td>\n",
              "      <td>2عدد</td>\n",
              "      <td>5طبقه</td>\n",
              "      <td>3عدد</td>\n",
              "      <td>1عدد</td>\n",
              "      <td>ایرانیفرنگی</td>\n",
              "      <td>12میلیاردتومان</td>\n",
              "    </tr>\n",
              "    <tr>\n",
              "      <th>5</th>\n",
              "      <td>5</td>\n",
              "      <td>تهران-جماران</td>\n",
              "      <td>110.0</td>\n",
              "      <td>5</td>\n",
              "      <td>3</td>\n",
              "      <td>1</td>\n",
              "      <td>1</td>\n",
              "      <td>2</td>\n",
              "      <td>3</td>\n",
              "      <td>شمالی،جنوبی</td>\n",
              "      <td>دارد</td>\n",
              "      <td>سنگ</td>\n",
              "      <td>1عدد</td>\n",
              "      <td>5طبقه</td>\n",
              "      <td>2عدد</td>\n",
              "      <td>1عدد</td>\n",
              "      <td>ایرانیفرنگی</td>\n",
              "      <td>7میلیاردتومان</td>\n",
              "    </tr>\n",
              "    <tr>\n",
              "      <th>6</th>\n",
              "      <td>6</td>\n",
              "      <td>تهران-چیذر</td>\n",
              "      <td>87.0</td>\n",
              "      <td>30</td>\n",
              "      <td>2</td>\n",
              "      <td>0</td>\n",
              "      <td>1</td>\n",
              "      <td>1</td>\n",
              "      <td>1</td>\n",
              "      <td>شمالی،جنوبی</td>\n",
              "      <td>-</td>\n",
              "      <td>کنیتکس</td>\n",
              "      <td>3عدد</td>\n",
              "      <td>4طبقه</td>\n",
              "      <td>2عدد</td>\n",
              "      <td>NaN</td>\n",
              "      <td>ایرانیفرنگی</td>\n",
              "      <td>4میلیاردتومان</td>\n",
              "    </tr>\n",
              "    <tr>\n",
              "      <th>7</th>\n",
              "      <td>7</td>\n",
              "      <td>تهران-چیذر</td>\n",
              "      <td>87.0</td>\n",
              "      <td>30</td>\n",
              "      <td>2</td>\n",
              "      <td>0</td>\n",
              "      <td>1</td>\n",
              "      <td>1</td>\n",
              "      <td>1</td>\n",
              "      <td>شمالی،جنوبی</td>\n",
              "      <td>-</td>\n",
              "      <td>سیمان</td>\n",
              "      <td>3عدد</td>\n",
              "      <td>4طبقه</td>\n",
              "      <td>2عدد</td>\n",
              "      <td>NaN</td>\n",
              "      <td>ایرانیفرنگی</td>\n",
              "      <td>4میلیاردتومان</td>\n",
              "    </tr>\n",
              "    <tr>\n",
              "      <th>8</th>\n",
              "      <td>8</td>\n",
              "      <td>تهران-چیذر</td>\n",
              "      <td>87.0</td>\n",
              "      <td>30</td>\n",
              "      <td>2</td>\n",
              "      <td>0</td>\n",
              "      <td>1</td>\n",
              "      <td>1</td>\n",
              "      <td>1</td>\n",
              "      <td>شمالی،جنوبی</td>\n",
              "      <td>-</td>\n",
              "      <td>سنگ</td>\n",
              "      <td>3عدد</td>\n",
              "      <td>4طبقه</td>\n",
              "      <td>2عدد</td>\n",
              "      <td>NaN</td>\n",
              "      <td>ایرانیفرنگی</td>\n",
              "      <td>4میلیاردتومان</td>\n",
              "    </tr>\n",
              "    <tr>\n",
              "      <th>9</th>\n",
              "      <td>9</td>\n",
              "      <td>تهران-چیذر</td>\n",
              "      <td>87.0</td>\n",
              "      <td>30</td>\n",
              "      <td>2</td>\n",
              "      <td>0</td>\n",
              "      <td>1</td>\n",
              "      <td>1</td>\n",
              "      <td>1</td>\n",
              "      <td>شمالی،جنوبی</td>\n",
              "      <td>-</td>\n",
              "      <td>سیمان</td>\n",
              "      <td>3عدد</td>\n",
              "      <td>4طبقه</td>\n",
              "      <td>2عدد</td>\n",
              "      <td>NaN</td>\n",
              "      <td>ایرانیفرنگی</td>\n",
              "      <td>4میلیاردتومان</td>\n",
              "    </tr>\n",
              "    <tr>\n",
              "      <th>10</th>\n",
              "      <td>10</td>\n",
              "      <td>تهران-چیذر</td>\n",
              "      <td>87.0</td>\n",
              "      <td>30</td>\n",
              "      <td>2</td>\n",
              "      <td>0</td>\n",
              "      <td>1</td>\n",
              "      <td>1</td>\n",
              "      <td>1</td>\n",
              "      <td>شمالی،جنوبی</td>\n",
              "      <td>-</td>\n",
              "      <td>سیمان</td>\n",
              "      <td>3عدد</td>\n",
              "      <td>4طبقه</td>\n",
              "      <td>2عدد</td>\n",
              "      <td>NaN</td>\n",
              "      <td>ایرانیفرنگی</td>\n",
              "      <td>4میلیاردتومان</td>\n",
              "    </tr>\n",
              "    <tr>\n",
              "      <th>11</th>\n",
              "      <td>11</td>\n",
              "      <td>تهران-کامرانیهجنوبی</td>\n",
              "      <td>87.0</td>\n",
              "      <td>30</td>\n",
              "      <td>2</td>\n",
              "      <td>0</td>\n",
              "      <td>1</td>\n",
              "      <td>1</td>\n",
              "      <td>1</td>\n",
              "      <td>شمالی</td>\n",
              "      <td>دارد</td>\n",
              "      <td>سیمان</td>\n",
              "      <td>3عدد</td>\n",
              "      <td>4طبقه</td>\n",
              "      <td>1عدد</td>\n",
              "      <td>NaN</td>\n",
              "      <td>ایرانیفرنگی</td>\n",
              "      <td>4میلیاردتومان</td>\n",
              "    </tr>\n",
              "    <tr>\n",
              "      <th>12</th>\n",
              "      <td>12</td>\n",
              "      <td>تهران-حکمت</td>\n",
              "      <td>145.0</td>\n",
              "      <td>6</td>\n",
              "      <td>3</td>\n",
              "      <td>1</td>\n",
              "      <td>1</td>\n",
              "      <td>3</td>\n",
              "      <td>2</td>\n",
              "      <td>شمالی</td>\n",
              "      <td>دارد</td>\n",
              "      <td>سنگ</td>\n",
              "      <td>2عدد</td>\n",
              "      <td>5طبقه</td>\n",
              "      <td>2عدد</td>\n",
              "      <td>1عدد</td>\n",
              "      <td>ایرانیفرنگی</td>\n",
              "      <td>12میلیاردتومان</td>\n",
              "    </tr>\n",
              "    <tr>\n",
              "      <th>13</th>\n",
              "      <td>13</td>\n",
              "      <td>تهران-صاحبقرانیه</td>\n",
              "      <td>300.0</td>\n",
              "      <td>نوساز</td>\n",
              "      <td>4</td>\n",
              "      <td>2</td>\n",
              "      <td>1</td>\n",
              "      <td>3</td>\n",
              "      <td>2</td>\n",
              "      <td>—</td>\n",
              "      <td>دارد</td>\n",
              "      <td>NaN</td>\n",
              "      <td>2عدد</td>\n",
              "      <td>6طبقه</td>\n",
              "      <td>5عدد</td>\n",
              "      <td>4عدد</td>\n",
              "      <td>فرنگیایرانی</td>\n",
              "      <td>39میلیاردتومان</td>\n",
              "    </tr>\n",
              "    <tr>\n",
              "      <th>14</th>\n",
              "      <td>14</td>\n",
              "      <td>تهران-فرمانیه</td>\n",
              "      <td>220.0</td>\n",
              "      <td>نوساز</td>\n",
              "      <td>3</td>\n",
              "      <td>1</td>\n",
              "      <td>1</td>\n",
              "      <td>2</td>\n",
              "      <td>5</td>\n",
              "      <td>—</td>\n",
              "      <td>دارد</td>\n",
              "      <td>NaN</td>\n",
              "      <td>2عدد</td>\n",
              "      <td>6طبقه</td>\n",
              "      <td>4عدد</td>\n",
              "      <td>2عدد</td>\n",
              "      <td>NaN</td>\n",
              "      <td>28میلیاردتومان</td>\n",
              "    </tr>\n",
              "    <tr>\n",
              "      <th>15</th>\n",
              "      <td>15</td>\n",
              "      <td>تهران-پاسداران</td>\n",
              "      <td>152.0</td>\n",
              "      <td>7</td>\n",
              "      <td>2</td>\n",
              "      <td>1</td>\n",
              "      <td>1</td>\n",
              "      <td>1</td>\n",
              "      <td>2</td>\n",
              "      <td>جنوبی</td>\n",
              "      <td>دارد</td>\n",
              "      <td>کامپوزیت-نمایترکیبی</td>\n",
              "      <td>3عدد</td>\n",
              "      <td>5طبقه</td>\n",
              "      <td>3عدد</td>\n",
              "      <td>1عدد</td>\n",
              "      <td>ایرانیفرنگی</td>\n",
              "      <td>11میلیاردو400میلیونتومان</td>\n",
              "    </tr>\n",
              "    <tr>\n",
              "      <th>16</th>\n",
              "      <td>16</td>\n",
              "      <td>تهران-فرمانیه</td>\n",
              "      <td>200.0</td>\n",
              "      <td>2</td>\n",
              "      <td>3</td>\n",
              "      <td>1</td>\n",
              "      <td>1</td>\n",
              "      <td>2</td>\n",
              "      <td>5</td>\n",
              "      <td>—</td>\n",
              "      <td>دارد</td>\n",
              "      <td>NaN</td>\n",
              "      <td>2عدد</td>\n",
              "      <td>6طبقه</td>\n",
              "      <td>4عدد</td>\n",
              "      <td>2عدد</td>\n",
              "      <td>NaN</td>\n",
              "      <td>26میلیاردتومان</td>\n",
              "    </tr>\n",
              "    <tr>\n",
              "      <th>17</th>\n",
              "      <td>17</td>\n",
              "      <td>تهران-جمشیدیه</td>\n",
              "      <td>171.0</td>\n",
              "      <td>1</td>\n",
              "      <td>3</td>\n",
              "      <td>2</td>\n",
              "      <td>1</td>\n",
              "      <td>1</td>\n",
              "      <td>7</td>\n",
              "      <td>—</td>\n",
              "      <td>دارد</td>\n",
              "      <td>NaN</td>\n",
              "      <td>2عدد</td>\n",
              "      <td>10طبقه</td>\n",
              "      <td>3عدد</td>\n",
              "      <td>1عدد</td>\n",
              "      <td>ایرانیفرنگی</td>\n",
              "      <td>20میلیاردو500میلیونتومان</td>\n",
              "    </tr>\n",
              "    <tr>\n",
              "      <th>18</th>\n",
              "      <td>18</td>\n",
              "      <td>تهران-اندرزگو</td>\n",
              "      <td>225.0</td>\n",
              "      <td>نوساز</td>\n",
              "      <td>3</td>\n",
              "      <td>1</td>\n",
              "      <td>1</td>\n",
              "      <td>2</td>\n",
              "      <td>6</td>\n",
              "      <td>—</td>\n",
              "      <td>دارد</td>\n",
              "      <td>NaN</td>\n",
              "      <td>1عدد</td>\n",
              "      <td>6طبقه</td>\n",
              "      <td>3عدد</td>\n",
              "      <td>1عدد</td>\n",
              "      <td>ایرانیفرنگی</td>\n",
              "      <td>16میلیاردو875میلیونتومان</td>\n",
              "    </tr>\n",
              "    <tr>\n",
              "      <th>19</th>\n",
              "      <td>19</td>\n",
              "      <td>تهران-قیطریه</td>\n",
              "      <td>135.0</td>\n",
              "      <td>3</td>\n",
              "      <td>3</td>\n",
              "      <td>2</td>\n",
              "      <td>1</td>\n",
              "      <td>1</td>\n",
              "      <td>4</td>\n",
              "      <td>—</td>\n",
              "      <td>دارد</td>\n",
              "      <td>NaN</td>\n",
              "      <td>4عدد</td>\n",
              "      <td>6طبقه</td>\n",
              "      <td>4عدد</td>\n",
              "      <td>3عدد</td>\n",
              "      <td>NaN</td>\n",
              "      <td>9میلیاردو450میلیونتومان</td>\n",
              "    </tr>\n",
              "  </tbody>\n",
              "</table>\n",
              "</div>"
            ],
            "text/plain": [
              "    Unnamed: 0                 area  ...      WC_type                sell_value\n",
              "0            0       تهران-اختیاریه  ...  ایرانیفرنگی   6میلیاردو400میلیونتومان\n",
              "1            1        تهران-اندرزگو  ...  ایرانیفرنگی            19میلیاردتومان\n",
              "2            2        تهران-اندرزگو  ...  ایرانیفرنگی            14میلیاردتومان\n",
              "3            3   تهران-خیابانقیطریه  ...  ایرانیفرنگی   6میلیاردو100میلیونتومان\n",
              "4            4        تهران-اندرزگو  ...  ایرانیفرنگی            12میلیاردتومان\n",
              "5            5         تهران-جماران  ...  ایرانیفرنگی             7میلیاردتومان\n",
              "6            6           تهران-چیذر  ...  ایرانیفرنگی             4میلیاردتومان\n",
              "7            7           تهران-چیذر  ...  ایرانیفرنگی             4میلیاردتومان\n",
              "8            8           تهران-چیذر  ...  ایرانیفرنگی             4میلیاردتومان\n",
              "9            9           تهران-چیذر  ...  ایرانیفرنگی             4میلیاردتومان\n",
              "10          10           تهران-چیذر  ...  ایرانیفرنگی             4میلیاردتومان\n",
              "11          11  تهران-کامرانیهجنوبی  ...  ایرانیفرنگی             4میلیاردتومان\n",
              "12          12           تهران-حکمت  ...  ایرانیفرنگی            12میلیاردتومان\n",
              "13          13     تهران-صاحبقرانیه  ...  فرنگیایرانی            39میلیاردتومان\n",
              "14          14        تهران-فرمانیه  ...          NaN            28میلیاردتومان\n",
              "15          15       تهران-پاسداران  ...  ایرانیفرنگی  11میلیاردو400میلیونتومان\n",
              "16          16        تهران-فرمانیه  ...          NaN            26میلیاردتومان\n",
              "17          17        تهران-جمشیدیه  ...  ایرانیفرنگی  20میلیاردو500میلیونتومان\n",
              "18          18        تهران-اندرزگو  ...  ایرانیفرنگی  16میلیاردو875میلیونتومان\n",
              "19          19         تهران-قیطریه  ...          NaN   9میلیاردو450میلیونتومان\n",
              "\n",
              "[20 rows x 18 columns]"
            ]
          },
          "metadata": {
            "tags": []
          },
          "execution_count": 118
        }
      ]
    },
    {
      "cell_type": "markdown",
      "metadata": {
        "id": "tfZH2jl-jrU-"
      },
      "source": [
        "## Preprocessing "
      ]
    },
    {
      "cell_type": "code",
      "metadata": {
        "id": "i7stQCba2p_-"
      },
      "source": [
        "def price(p):\n",
        "  x = re.findall('[0-9]+', p)\n",
        "  if len(x) == 0: return 0\n",
        "  if p.count('میلیارد')==1:\n",
        "    milliard = x[0]\n",
        "    if len(x) == 2:\n",
        "      million = x[1]\n",
        "    else: million = 0 \n",
        "  else: \n",
        "    million = x[0]\n",
        "    milliard = 0\n",
        "  return float(milliard) + float(million)/1000"
      ],
      "execution_count": null,
      "outputs": []
    },
    {
      "cell_type": "code",
      "metadata": {
        "id": "IriARLzojqwN"
      },
      "source": [
        "Houses_df = Houses_df.drop(['Unnamed: 0'], axis = 1)\n",
        "Houses_df = Houses_df.replace('نوساز',0)\n",
        "Houses_df = Houses_df.replace('—','NaN')\n",
        "Houses_df = Houses_df.replace('--','NaN')\n",
        "Houses_df = Houses_df.replace('-','NaN')\n",
        "Houses_df = Houses_df.replace('__','NaN')\n",
        "Houses_df = Houses_df.replace({'NaN': np.nan})\n",
        "\n",
        "Houses_df['area'] = Houses_df['area'].apply(lambda x: re.sub(r'تهران-','',x))\n",
        "Houses_df[['meters','years','rooms','elevator','storage_area','parking_space','floor']] = Houses_df[['meters','years','rooms','elevator','storage_area','parking_space','floor']].astype(float)\n",
        "Houses_df['units_per_floor'] = Houses_df['units_per_floor'].apply(lambda x: re.sub(r'عدد','',str(x))).astype(float)\n",
        "Houses_df['WC_num'] = Houses_df['WC_num'].apply(lambda x: re.sub(r'عدد','',str(x))).astype(float)\n",
        "Houses_df['master_num'] = Houses_df['master_num'].apply(lambda x: re.sub(r'عدد','',str(x))).astype(float)\n",
        "Houses_df['floors'] = Houses_df['floors'].apply(lambda x: re.sub(r'طبقه','',str(x))).astype(float)\n",
        "Houses_df['sell_value'] = Houses_df['sell_value'].apply(lambda x: price(x)).astype(float)"
      ],
      "execution_count": null,
      "outputs": []
    },
    {
      "cell_type": "code",
      "metadata": {
        "colab": {
          "base_uri": "https://localhost:8080/",
          "height": 422
        },
        "id": "BhAfO6-1wWcU",
        "outputId": "6fd8eee3-6fa1-4b51-e6bd-5081c8c4e114"
      },
      "source": [
        "Houses_df"
      ],
      "execution_count": null,
      "outputs": [
        {
          "output_type": "execute_result",
          "data": {
            "text/html": [
              "<div>\n",
              "<style scoped>\n",
              "    .dataframe tbody tr th:only-of-type {\n",
              "        vertical-align: middle;\n",
              "    }\n",
              "\n",
              "    .dataframe tbody tr th {\n",
              "        vertical-align: top;\n",
              "    }\n",
              "\n",
              "    .dataframe thead th {\n",
              "        text-align: right;\n",
              "    }\n",
              "</style>\n",
              "<table border=\"1\" class=\"dataframe\">\n",
              "  <thead>\n",
              "    <tr style=\"text-align: right;\">\n",
              "      <th></th>\n",
              "      <th>area</th>\n",
              "      <th>meters</th>\n",
              "      <th>years</th>\n",
              "      <th>rooms</th>\n",
              "      <th>elevator</th>\n",
              "      <th>storage_area</th>\n",
              "      <th>parking_space</th>\n",
              "      <th>floor</th>\n",
              "      <th>position</th>\n",
              "      <th>terrace</th>\n",
              "      <th>look</th>\n",
              "      <th>units_per_floor</th>\n",
              "      <th>floors</th>\n",
              "      <th>WC_num</th>\n",
              "      <th>master_num</th>\n",
              "      <th>WC_type</th>\n",
              "      <th>sell_value</th>\n",
              "    </tr>\n",
              "  </thead>\n",
              "  <tbody>\n",
              "    <tr>\n",
              "      <th>0</th>\n",
              "      <td>اختیاریه</td>\n",
              "      <td>100.0</td>\n",
              "      <td>0.0</td>\n",
              "      <td>2.0</td>\n",
              "      <td>1.0</td>\n",
              "      <td>1.0</td>\n",
              "      <td>1.0</td>\n",
              "      <td>3.0</td>\n",
              "      <td>شمالی،جنوبی</td>\n",
              "      <td>دارد</td>\n",
              "      <td>سنگ</td>\n",
              "      <td>3.0</td>\n",
              "      <td>5.0</td>\n",
              "      <td>2.0</td>\n",
              "      <td>1.0</td>\n",
              "      <td>ایرانیفرنگی</td>\n",
              "      <td>6.40</td>\n",
              "    </tr>\n",
              "    <tr>\n",
              "      <th>1</th>\n",
              "      <td>اندرزگو</td>\n",
              "      <td>190.0</td>\n",
              "      <td>1.0</td>\n",
              "      <td>3.0</td>\n",
              "      <td>2.0</td>\n",
              "      <td>1.0</td>\n",
              "      <td>2.0</td>\n",
              "      <td>9.0</td>\n",
              "      <td>جنوبی</td>\n",
              "      <td>دارد</td>\n",
              "      <td>رومی</td>\n",
              "      <td>1.0</td>\n",
              "      <td>10.0</td>\n",
              "      <td>3.0</td>\n",
              "      <td>1.0</td>\n",
              "      <td>ایرانیفرنگی</td>\n",
              "      <td>19.00</td>\n",
              "    </tr>\n",
              "    <tr>\n",
              "      <th>2</th>\n",
              "      <td>اندرزگو</td>\n",
              "      <td>180.0</td>\n",
              "      <td>12.0</td>\n",
              "      <td>3.0</td>\n",
              "      <td>2.0</td>\n",
              "      <td>1.0</td>\n",
              "      <td>1.0</td>\n",
              "      <td>4.0</td>\n",
              "      <td>جنوبی</td>\n",
              "      <td>دارد</td>\n",
              "      <td>رومی</td>\n",
              "      <td>1.0</td>\n",
              "      <td>10.0</td>\n",
              "      <td>3.0</td>\n",
              "      <td>1.0</td>\n",
              "      <td>ایرانیفرنگی</td>\n",
              "      <td>14.00</td>\n",
              "    </tr>\n",
              "    <tr>\n",
              "      <th>3</th>\n",
              "      <td>خیابانقیطریه</td>\n",
              "      <td>112.0</td>\n",
              "      <td>15.0</td>\n",
              "      <td>2.0</td>\n",
              "      <td>0.0</td>\n",
              "      <td>1.0</td>\n",
              "      <td>1.0</td>\n",
              "      <td>2.0</td>\n",
              "      <td>شمالی</td>\n",
              "      <td>دارد</td>\n",
              "      <td>آجر</td>\n",
              "      <td>3.0</td>\n",
              "      <td>4.0</td>\n",
              "      <td>2.0</td>\n",
              "      <td>NaN</td>\n",
              "      <td>ایرانیفرنگی</td>\n",
              "      <td>6.10</td>\n",
              "    </tr>\n",
              "    <tr>\n",
              "      <th>4</th>\n",
              "      <td>اندرزگو</td>\n",
              "      <td>150.0</td>\n",
              "      <td>6.0</td>\n",
              "      <td>3.0</td>\n",
              "      <td>1.0</td>\n",
              "      <td>1.0</td>\n",
              "      <td>2.0</td>\n",
              "      <td>3.0</td>\n",
              "      <td>شمالی،جنوبی</td>\n",
              "      <td>دارد</td>\n",
              "      <td>سنگ</td>\n",
              "      <td>2.0</td>\n",
              "      <td>5.0</td>\n",
              "      <td>3.0</td>\n",
              "      <td>1.0</td>\n",
              "      <td>ایرانیفرنگی</td>\n",
              "      <td>12.00</td>\n",
              "    </tr>\n",
              "    <tr>\n",
              "      <th>...</th>\n",
              "      <td>...</td>\n",
              "      <td>...</td>\n",
              "      <td>...</td>\n",
              "      <td>...</td>\n",
              "      <td>...</td>\n",
              "      <td>...</td>\n",
              "      <td>...</td>\n",
              "      <td>...</td>\n",
              "      <td>...</td>\n",
              "      <td>...</td>\n",
              "      <td>...</td>\n",
              "      <td>...</td>\n",
              "      <td>...</td>\n",
              "      <td>...</td>\n",
              "      <td>...</td>\n",
              "      <td>...</td>\n",
              "      <td>...</td>\n",
              "    </tr>\n",
              "    <tr>\n",
              "      <th>2815</th>\n",
              "      <td>ولنجک</td>\n",
              "      <td>300.0</td>\n",
              "      <td>9.0</td>\n",
              "      <td>3.0</td>\n",
              "      <td>1.0</td>\n",
              "      <td>1.0</td>\n",
              "      <td>1.0</td>\n",
              "      <td>12.0</td>\n",
              "      <td>شمالی</td>\n",
              "      <td>دارد</td>\n",
              "      <td>NaN</td>\n",
              "      <td>2.0</td>\n",
              "      <td>18.0</td>\n",
              "      <td>NaN</td>\n",
              "      <td>NaN</td>\n",
              "      <td>فرنگی</td>\n",
              "      <td>0.00</td>\n",
              "    </tr>\n",
              "    <tr>\n",
              "      <th>2816</th>\n",
              "      <td>مالکاشتر</td>\n",
              "      <td>62.0</td>\n",
              "      <td>20.0</td>\n",
              "      <td>2.0</td>\n",
              "      <td>0.0</td>\n",
              "      <td>1.0</td>\n",
              "      <td>1.0</td>\n",
              "      <td>1.0</td>\n",
              "      <td>جنوبی</td>\n",
              "      <td>دارد</td>\n",
              "      <td>NaN</td>\n",
              "      <td>4.0</td>\n",
              "      <td>4.0</td>\n",
              "      <td>NaN</td>\n",
              "      <td>NaN</td>\n",
              "      <td>ایرانی</td>\n",
              "      <td>1.55</td>\n",
              "    </tr>\n",
              "    <tr>\n",
              "      <th>2817</th>\n",
              "      <td>خیابانمیعاد</td>\n",
              "      <td>71.0</td>\n",
              "      <td>10.0</td>\n",
              "      <td>1.0</td>\n",
              "      <td>1.0</td>\n",
              "      <td>1.0</td>\n",
              "      <td>1.0</td>\n",
              "      <td>1.0</td>\n",
              "      <td>NaN</td>\n",
              "      <td>NaN</td>\n",
              "      <td>NaN</td>\n",
              "      <td>NaN</td>\n",
              "      <td>NaN</td>\n",
              "      <td>NaN</td>\n",
              "      <td>NaN</td>\n",
              "      <td>NaN</td>\n",
              "      <td>0.00</td>\n",
              "    </tr>\n",
              "    <tr>\n",
              "      <th>2818</th>\n",
              "      <td>بشارت</td>\n",
              "      <td>72.0</td>\n",
              "      <td>15.0</td>\n",
              "      <td>2.0</td>\n",
              "      <td>1.0</td>\n",
              "      <td>1.0</td>\n",
              "      <td>1.0</td>\n",
              "      <td>1.0</td>\n",
              "      <td>NaN</td>\n",
              "      <td>NaN</td>\n",
              "      <td>NaN</td>\n",
              "      <td>NaN</td>\n",
              "      <td>NaN</td>\n",
              "      <td>NaN</td>\n",
              "      <td>NaN</td>\n",
              "      <td>NaN</td>\n",
              "      <td>2.00</td>\n",
              "    </tr>\n",
              "    <tr>\n",
              "      <th>2819</th>\n",
              "      <td>یاس</td>\n",
              "      <td>77.0</td>\n",
              "      <td>2.0</td>\n",
              "      <td>1.0</td>\n",
              "      <td>1.0</td>\n",
              "      <td>1.0</td>\n",
              "      <td>NaN</td>\n",
              "      <td>3.0</td>\n",
              "      <td>NaN</td>\n",
              "      <td>دارد</td>\n",
              "      <td>NaN</td>\n",
              "      <td>NaN</td>\n",
              "      <td>NaN</td>\n",
              "      <td>NaN</td>\n",
              "      <td>NaN</td>\n",
              "      <td>NaN</td>\n",
              "      <td>0.63</td>\n",
              "    </tr>\n",
              "  </tbody>\n",
              "</table>\n",
              "<p>2820 rows × 17 columns</p>\n",
              "</div>"
            ],
            "text/plain": [
              "              area  meters  years  ...  master_num      WC_type  sell_value\n",
              "0         اختیاریه   100.0    0.0  ...         1.0  ایرانیفرنگی        6.40\n",
              "1          اندرزگو   190.0    1.0  ...         1.0  ایرانیفرنگی       19.00\n",
              "2          اندرزگو   180.0   12.0  ...         1.0  ایرانیفرنگی       14.00\n",
              "3     خیابانقیطریه   112.0   15.0  ...         NaN  ایرانیفرنگی        6.10\n",
              "4          اندرزگو   150.0    6.0  ...         1.0  ایرانیفرنگی       12.00\n",
              "...            ...     ...    ...  ...         ...          ...         ...\n",
              "2815         ولنجک   300.0    9.0  ...         NaN        فرنگی        0.00\n",
              "2816      مالکاشتر    62.0   20.0  ...         NaN       ایرانی        1.55\n",
              "2817   خیابانمیعاد    71.0   10.0  ...         NaN          NaN        0.00\n",
              "2818         بشارت    72.0   15.0  ...         NaN          NaN        2.00\n",
              "2819           یاس    77.0    2.0  ...         NaN          NaN        0.63\n",
              "\n",
              "[2820 rows x 17 columns]"
            ]
          },
          "metadata": {
            "tags": []
          },
          "execution_count": 121
        }
      ]
    },
    {
      "cell_type": "code",
      "metadata": {
        "colab": {
          "base_uri": "https://localhost:8080/",
          "height": 304
        },
        "id": "CLHgqsIy8B3M",
        "outputId": "8d20d075-a85c-4535-f9e3-06c81160d79f"
      },
      "source": [
        "Houses_df.describe()"
      ],
      "execution_count": null,
      "outputs": [
        {
          "output_type": "execute_result",
          "data": {
            "text/html": [
              "<div>\n",
              "<style scoped>\n",
              "    .dataframe tbody tr th:only-of-type {\n",
              "        vertical-align: middle;\n",
              "    }\n",
              "\n",
              "    .dataframe tbody tr th {\n",
              "        vertical-align: top;\n",
              "    }\n",
              "\n",
              "    .dataframe thead th {\n",
              "        text-align: right;\n",
              "    }\n",
              "</style>\n",
              "<table border=\"1\" class=\"dataframe\">\n",
              "  <thead>\n",
              "    <tr style=\"text-align: right;\">\n",
              "      <th></th>\n",
              "      <th>meters</th>\n",
              "      <th>years</th>\n",
              "      <th>rooms</th>\n",
              "      <th>elevator</th>\n",
              "      <th>storage_area</th>\n",
              "      <th>parking_space</th>\n",
              "      <th>floor</th>\n",
              "      <th>units_per_floor</th>\n",
              "      <th>floors</th>\n",
              "      <th>WC_num</th>\n",
              "      <th>master_num</th>\n",
              "      <th>sell_value</th>\n",
              "    </tr>\n",
              "  </thead>\n",
              "  <tbody>\n",
              "    <tr>\n",
              "      <th>count</th>\n",
              "      <td>2820.000000</td>\n",
              "      <td>2820.000000</td>\n",
              "      <td>2820.000000</td>\n",
              "      <td>2614.000000</td>\n",
              "      <td>2595.000000</td>\n",
              "      <td>2632.000000</td>\n",
              "      <td>2787.000000</td>\n",
              "      <td>1854.000000</td>\n",
              "      <td>2073.000000</td>\n",
              "      <td>934.000000</td>\n",
              "      <td>515.000000</td>\n",
              "      <td>2820.000000</td>\n",
              "    </tr>\n",
              "    <tr>\n",
              "      <th>mean</th>\n",
              "      <td>117.592908</td>\n",
              "      <td>27.845745</td>\n",
              "      <td>2.132624</td>\n",
              "      <td>0.929227</td>\n",
              "      <td>0.905973</td>\n",
              "      <td>0.928951</td>\n",
              "      <td>3.298888</td>\n",
              "      <td>3.634844</td>\n",
              "      <td>5.683068</td>\n",
              "      <td>1.979657</td>\n",
              "      <td>1.234951</td>\n",
              "      <td>3.623480</td>\n",
              "    </tr>\n",
              "    <tr>\n",
              "      <th>std</th>\n",
              "      <td>103.150699</td>\n",
              "      <td>164.683070</td>\n",
              "      <td>0.851599</td>\n",
              "      <td>0.740783</td>\n",
              "      <td>0.319658</td>\n",
              "      <td>0.557494</td>\n",
              "      <td>2.809968</td>\n",
              "      <td>23.943604</td>\n",
              "      <td>3.013866</td>\n",
              "      <td>1.061159</td>\n",
              "      <td>0.876155</td>\n",
              "      <td>8.891323</td>\n",
              "    </tr>\n",
              "    <tr>\n",
              "      <th>min</th>\n",
              "      <td>12.000000</td>\n",
              "      <td>0.000000</td>\n",
              "      <td>0.000000</td>\n",
              "      <td>0.000000</td>\n",
              "      <td>0.000000</td>\n",
              "      <td>0.000000</td>\n",
              "      <td>-1.000000</td>\n",
              "      <td>1.000000</td>\n",
              "      <td>1.000000</td>\n",
              "      <td>1.000000</td>\n",
              "      <td>0.000000</td>\n",
              "      <td>0.000000</td>\n",
              "    </tr>\n",
              "    <tr>\n",
              "      <th>25%</th>\n",
              "      <td>68.000000</td>\n",
              "      <td>1.000000</td>\n",
              "      <td>2.000000</td>\n",
              "      <td>1.000000</td>\n",
              "      <td>1.000000</td>\n",
              "      <td>1.000000</td>\n",
              "      <td>2.000000</td>\n",
              "      <td>1.000000</td>\n",
              "      <td>4.000000</td>\n",
              "      <td>1.000000</td>\n",
              "      <td>1.000000</td>\n",
              "      <td>0.000000</td>\n",
              "    </tr>\n",
              "    <tr>\n",
              "      <th>50%</th>\n",
              "      <td>96.000000</td>\n",
              "      <td>6.000000</td>\n",
              "      <td>2.000000</td>\n",
              "      <td>1.000000</td>\n",
              "      <td>1.000000</td>\n",
              "      <td>1.000000</td>\n",
              "      <td>3.000000</td>\n",
              "      <td>2.000000</td>\n",
              "      <td>5.000000</td>\n",
              "      <td>2.000000</td>\n",
              "      <td>1.000000</td>\n",
              "      <td>0.998000</td>\n",
              "    </tr>\n",
              "    <tr>\n",
              "      <th>75%</th>\n",
              "      <td>134.250000</td>\n",
              "      <td>15.000000</td>\n",
              "      <td>3.000000</td>\n",
              "      <td>1.000000</td>\n",
              "      <td>1.000000</td>\n",
              "      <td>1.000000</td>\n",
              "      <td>4.000000</td>\n",
              "      <td>3.000000</td>\n",
              "      <td>6.000000</td>\n",
              "      <td>2.000000</td>\n",
              "      <td>1.000000</td>\n",
              "      <td>3.600000</td>\n",
              "    </tr>\n",
              "    <tr>\n",
              "      <th>max</th>\n",
              "      <td>2120.000000</td>\n",
              "      <td>1399.000000</td>\n",
              "      <td>15.000000</td>\n",
              "      <td>8.000000</td>\n",
              "      <td>5.000000</td>\n",
              "      <td>5.000000</td>\n",
              "      <td>30.000000</td>\n",
              "      <td>720.000000</td>\n",
              "      <td>30.000000</td>\n",
              "      <td>10.000000</td>\n",
              "      <td>5.000000</td>\n",
              "      <td>125.000000</td>\n",
              "    </tr>\n",
              "  </tbody>\n",
              "</table>\n",
              "</div>"
            ],
            "text/plain": [
              "            meters        years  ...  master_num   sell_value\n",
              "count  2820.000000  2820.000000  ...  515.000000  2820.000000\n",
              "mean    117.592908    27.845745  ...    1.234951     3.623480\n",
              "std     103.150699   164.683070  ...    0.876155     8.891323\n",
              "min      12.000000     0.000000  ...    0.000000     0.000000\n",
              "25%      68.000000     1.000000  ...    1.000000     0.000000\n",
              "50%      96.000000     6.000000  ...    1.000000     0.998000\n",
              "75%     134.250000    15.000000  ...    1.000000     3.600000\n",
              "max    2120.000000  1399.000000  ...    5.000000   125.000000\n",
              "\n",
              "[8 rows x 12 columns]"
            ]
          },
          "metadata": {
            "tags": []
          },
          "execution_count": 122
        }
      ]
    },
    {
      "cell_type": "code",
      "metadata": {
        "colab": {
          "base_uri": "https://localhost:8080/"
        },
        "id": "q_iqisYQ0UDu",
        "outputId": "2d96513f-d968-44bb-c83a-ad255b341cd9"
      },
      "source": [
        "print(cl(Houses_df.dtypes, attrs = ['bold']))"
      ],
      "execution_count": null,
      "outputs": [
        {
          "output_type": "stream",
          "text": [
            "\u001b[1marea                object\n",
            "meters             float64\n",
            "years              float64\n",
            "rooms              float64\n",
            "elevator           float64\n",
            "storage_area       float64\n",
            "parking_space      float64\n",
            "floor              float64\n",
            "position            object\n",
            "terrace             object\n",
            "look                object\n",
            "units_per_floor    float64\n",
            "floors             float64\n",
            "WC_num             float64\n",
            "master_num         float64\n",
            "WC_type             object\n",
            "sell_value         float64\n",
            "dtype: object\u001b[0m\n"
          ],
          "name": "stdout"
        }
      ]
    },
    {
      "cell_type": "code",
      "metadata": {
        "colab": {
          "base_uri": "https://localhost:8080/"
        },
        "id": "c22kGCXblhH_",
        "outputId": "aa297b59-9a0f-46c6-a912-50cf1d1c4e59"
      },
      "source": [
        "Houses_df.info()"
      ],
      "execution_count": null,
      "outputs": [
        {
          "output_type": "stream",
          "text": [
            "<class 'pandas.core.frame.DataFrame'>\n",
            "RangeIndex: 2820 entries, 0 to 2819\n",
            "Data columns (total 17 columns):\n",
            " #   Column           Non-Null Count  Dtype  \n",
            "---  ------           --------------  -----  \n",
            " 0   area             2820 non-null   object \n",
            " 1   meters           2820 non-null   float64\n",
            " 2   years            2820 non-null   float64\n",
            " 3   rooms            2820 non-null   float64\n",
            " 4   elevator         2614 non-null   float64\n",
            " 5   storage_area     2595 non-null   float64\n",
            " 6   parking_space    2632 non-null   float64\n",
            " 7   floor            2787 non-null   float64\n",
            " 8   position         1873 non-null   object \n",
            " 9   terrace          1725 non-null   object \n",
            " 10  look             1122 non-null   object \n",
            " 11  units_per_floor  1854 non-null   float64\n",
            " 12  floors           2073 non-null   float64\n",
            " 13  WC_num           934 non-null    float64\n",
            " 14  master_num       515 non-null    float64\n",
            " 15  WC_type          2124 non-null   object \n",
            " 16  sell_value       2820 non-null   float64\n",
            "dtypes: float64(12), object(5)\n",
            "memory usage: 374.7+ KB\n"
          ],
          "name": "stdout"
        }
      ]
    },
    {
      "cell_type": "markdown",
      "metadata": {
        "id": "LXaTt81BZZ-t"
      },
      "source": [
        "# Plot Price distribution"
      ]
    },
    {
      "cell_type": "code",
      "metadata": {
        "colab": {
          "base_uri": "https://localhost:8080/"
        },
        "id": "PfVzyOyRh3xB",
        "outputId": "a1d16b2c-efb1-4b7d-99bd-d0268a7b41e8"
      },
      "source": [
        "Houses_df['sell_value'].value_counts(0)"
      ],
      "execution_count": null,
      "outputs": [
        {
          "output_type": "execute_result",
          "data": {
            "text/plain": [
              "0.00     1074\n",
              "1.40       24\n",
              "1.75       24\n",
              "4.00       20\n",
              "1.00       20\n",
              "         ... \n",
              "5.05        1\n",
              "24.50       1\n",
              "9.40        1\n",
              "8.25        1\n",
              "22.40       1\n",
              "Name: sell_value, Length: 587, dtype: int64"
            ]
          },
          "metadata": {
            "tags": []
          },
          "execution_count": 125
        }
      ]
    },
    {
      "cell_type": "code",
      "metadata": {
        "id": "nBci1In8jRQ-"
      },
      "source": [
        "df = Houses_df[Houses_df.sell_value != 0]"
      ],
      "execution_count": null,
      "outputs": []
    },
    {
      "cell_type": "code",
      "metadata": {
        "colab": {
          "base_uri": "https://localhost:8080/",
          "height": 387
        },
        "id": "d9F5uIUkjdmu",
        "outputId": "76972c74-71b7-493c-cdbd-f2da5e0e7dec"
      },
      "source": [
        "sb.distplot(df['sell_value'], color = 'r')\n",
        "plt.title('Sale Price Distribution', fontsize = 16)\n",
        "plt.xlabel('Sale Price', fontsize = 14)\n",
        "plt.ylabel('Frequency', fontsize = 14)\n",
        "plt.xticks(fontsize = 12)\n",
        "plt.yticks(fontsize = 12)\n",
        "\n",
        "sb.set_style('whitegrid')\n",
        "plt.rcParams['figure.figsize'] = (10, 5)\n",
        "plt.savefig('distplot_.png')\n",
        "plt.show()"
      ],
      "execution_count": null,
      "outputs": [
        {
          "output_type": "stream",
          "text": [
            "/usr/local/lib/python3.7/dist-packages/seaborn/distributions.py:2557: FutureWarning: `distplot` is a deprecated function and will be removed in a future version. Please adapt your code to use either `displot` (a figure-level function with similar flexibility) or `histplot` (an axes-level function for histograms).\n",
            "  warnings.warn(msg, FutureWarning)\n"
          ],
          "name": "stderr"
        },
        {
          "output_type": "display_data",
          "data": {
            "image/png": "[encoded data removed]",
            "text/plain": [
              "<Figure size 1440x360 with 1 Axes>"
            ]
          },
          "metadata": {
            "tags": []
          }
        }
      ]
    },
    {
      "cell_type": "markdown",
      "metadata": {
        "id": "yAmO4mtmZgjc"
      },
      "source": [
        "# Handle null values based on the task"
      ]
    },
    {
      "cell_type": "code",
      "metadata": {
        "id": "8kfSMpGmZY14",
        "colab": {
          "base_uri": "https://localhost:8080/"
        },
        "outputId": "fc4899be-4632-4ceb-fcfe-b4343780d844"
      },
      "source": [
        "df[\"elevator\"].fillna(0, inplace = True)\n",
        "df[\"storage_area\"].fillna(0, inplace = True)\n",
        "df[\"parking_space\"].fillna(0, inplace = True)\n",
        "df[\"floor\"].fillna(df['floor'].mode()[0], inplace = True)\n",
        "df[\"position\"].fillna(df['position'].mode()[0], inplace = True)\n",
        "df[\"terrace\"].fillna('ندارد', inplace = True)\n",
        "df[\"look\"].fillna(df['look'].mode()[0], inplace = True)\n",
        "df[\"units_per_floor\"].fillna(df['units_per_floor'].mode()[0], inplace = True)\n",
        "df[\"floors\"].fillna(df['floors'].mode()[0], inplace = True)\n",
        "df[\"WC_num\"].fillna(df['WC_num'].mode()[0], inplace = True)\n",
        "df[\"master_num\"].fillna(0, inplace = True)\n",
        "df[\"WC_type\"].fillna('ایرانی', inplace = True)"
      ],
      "execution_count": null,
      "outputs": [
        {
          "output_type": "stream",
          "text": [
            "/usr/local/lib/python3.7/dist-packages/pandas/core/series.py:4536: SettingWithCopyWarning: \n",
            "A value is trying to be set on a copy of a slice from a DataFrame\n",
            "\n",
            "See the caveats in the documentation: https://pandas.pydata.org/pandas-docs/stable/user_guide/indexing.html#returning-a-view-versus-a-copy\n",
            "  downcast=downcast,\n"
          ],
          "name": "stderr"
        }
      ]
    },
    {
      "cell_type": "markdown",
      "metadata": {
        "id": "F8fFeZnPv5rK"
      },
      "source": [
        "# To see the impact of some features on the price"
      ]
    },
    {
      "cell_type": "code",
      "metadata": {
        "colab": {
          "base_uri": "https://localhost:8080/",
          "height": 497
        },
        "id": "5CbuRrl2it2l",
        "outputId": "b7c80f16-7ab2-42e1-b61e-645298d9f4dd"
      },
      "source": [
        "var = 'rooms'\n",
        "data = pd.concat([df['sell_value'], df[var]], axis=1)\n",
        "f, ax = plt.subplots(figsize=(14, 8))\n",
        "fig = sb.boxplot(x=var, y=\"sell_value\", data=data)\n",
        "fig.axis(ymin=0, ymax=125);"
      ],
      "execution_count": null,
      "outputs": [
        {
          "output_type": "display_data",
          "data": {
            "image/png": "[encoded data removed]",
            "text/plain": [
              "<Figure size 1008x576 with 1 Axes>"
            ]
          },
          "metadata": {
            "tags": []
          }
        }
      ]
    },
    {
      "cell_type": "code",
      "metadata": {
        "id": "nnhzTPDJiJRI",
        "colab": {
          "base_uri": "https://localhost:8080/",
          "height": 501
        },
        "outputId": "6777070a-cd31-4d3d-cbbd-e06bed4c9300"
      },
      "source": [
        "var = 'years'\n",
        "data = pd.concat([df['sell_value'], df[var]], axis=1)\n",
        "f, ax = plt.subplots(figsize=(14, 8))\n",
        "fig = sb.boxplot(x=var, y=\"sell_value\", data=data)\n",
        "fig.axis(ymin=0, ymax=50);"
      ],
      "execution_count": null,
      "outputs": [
        {
          "output_type": "display_data",
          "data": {
            "image/png": "[encoded data removed]",
            "text/plain": [
              "<Figure size 1008x576 with 1 Axes>"
            ]
          },
          "metadata": {
            "tags": []
          }
        }
      ]
    },
    {
      "cell_type": "code",
      "metadata": {
        "colab": {
          "base_uri": "https://localhost:8080/",
          "height": 497
        },
        "id": "Vx1L3E5R0Fjt",
        "outputId": "7cb1ac6d-55de-42fb-953d-5bfbbe353ec7"
      },
      "source": [
        "var = 'master_num'\n",
        "data = pd.concat([df['sell_value'], df[var]], axis=1)\n",
        "f, ax = plt.subplots(figsize=(14, 8))\n",
        "fig = sb.boxplot(x=var, y=\"sell_value\", data=data)\n",
        "fig.axis(ymin=0, ymax=125);"
      ],
      "execution_count": null,
      "outputs": [
        {
          "output_type": "display_data",
          "data": {
            "image/png": "[encoded data removed]",
            "text/plain": [
              "<Figure size 1008x576 with 1 Axes>"
            ]
          },
          "metadata": {
            "tags": []
          }
        }
      ]
    },
    {
      "cell_type": "markdown",
      "metadata": {
        "id": "aJBL63Jb2G7U"
      },
      "source": [
        "# Correlation of features"
      ]
    },
    {
      "cell_type": "code",
      "metadata": {
        "colab": {
          "base_uri": "https://localhost:8080/",
          "height": 605
        },
        "id": "JGw4yQKW0Wwq",
        "outputId": "20337c49-9736-4b0d-ef26-1aae4083b171"
      },
      "source": [
        "corrmat = df.corr()\n",
        "f, ax = plt.subplots(figsize=(12, 9))\n",
        "sb.heatmap(corrmat, vmax=.8, square=True);"
      ],
      "execution_count": null,
      "outputs": [
        {
          "output_type": "display_data",
          "data": {
            "image/png": "[encoded data removed]",
            "text/plain": [
              "<Figure size 864x648 with 2 Axes>"
            ]
          },
          "metadata": {
            "tags": []
          }
        }
      ]
    },
    {
      "cell_type": "markdown",
      "metadata": {
        "id": "Xqecsu8A2MVA"
      },
      "source": [
        "# Change str column to categorial type and encode them"
      ]
    },
    {
      "cell_type": "code",
      "metadata": {
        "colab": {
          "base_uri": "https://localhost:8080/"
        },
        "id": "iOLgYSfH0dji",
        "outputId": "543a0ad2-9763-40eb-b0df-b24f03149a1b"
      },
      "source": [
        "cat_columns = [\"area\",\"position\",\"terrace\",\"look\",\"WC_type\"]\n",
        "for col in cat_columns:\n",
        "    df[col] = df[col].astype('category').cat.codes"
      ],
      "execution_count": null,
      "outputs": [
        {
          "output_type": "stream",
          "text": [
            "/usr/local/lib/python3.7/dist-packages/ipykernel_launcher.py:3: SettingWithCopyWarning: \n",
            "A value is trying to be set on a copy of a slice from a DataFrame.\n",
            "Try using .loc[row_indexer,col_indexer] = value instead\n",
            "\n",
            "See the caveats in the documentation: https://pandas.pydata.org/pandas-docs/stable/user_guide/indexing.html#returning-a-view-versus-a-copy\n",
            "  This is separate from the ipykernel package so we can avoid doing imports until\n"
          ],
          "name": "stderr"
        }
      ]
    },
    {
      "cell_type": "code",
      "metadata": {
        "colab": {
          "base_uri": "https://localhost:8080/",
          "height": 215
        },
        "id": "pv2glMQv06-g",
        "outputId": "a12364d7-2a47-40d2-946b-e96407410a2c"
      },
      "source": [
        "df.head()"
      ],
      "execution_count": null,
      "outputs": [
        {
          "output_type": "execute_result",
          "data": {
            "text/html": [
              "<div>\n",
              "<style scoped>\n",
              "    .dataframe tbody tr th:only-of-type {\n",
              "        vertical-align: middle;\n",
              "    }\n",
              "\n",
              "    .dataframe tbody tr th {\n",
              "        vertical-align: top;\n",
              "    }\n",
              "\n",
              "    .dataframe thead th {\n",
              "        text-align: right;\n",
              "    }\n",
              "</style>\n",
              "<table border=\"1\" class=\"dataframe\">\n",
              "  <thead>\n",
              "    <tr style=\"text-align: right;\">\n",
              "      <th></th>\n",
              "      <th>area</th>\n",
              "      <th>meters</th>\n",
              "      <th>years</th>\n",
              "      <th>rooms</th>\n",
              "      <th>elevator</th>\n",
              "      <th>storage_area</th>\n",
              "      <th>parking_space</th>\n",
              "      <th>floor</th>\n",
              "      <th>position</th>\n",
              "      <th>terrace</th>\n",
              "      <th>look</th>\n",
              "      <th>units_per_floor</th>\n",
              "      <th>floors</th>\n",
              "      <th>WC_num</th>\n",
              "      <th>master_num</th>\n",
              "      <th>WC_type</th>\n",
              "      <th>sell_value</th>\n",
              "    </tr>\n",
              "  </thead>\n",
              "  <tbody>\n",
              "    <tr>\n",
              "      <th>0</th>\n",
              "      <td>14</td>\n",
              "      <td>100.0</td>\n",
              "      <td>0.0</td>\n",
              "      <td>2.0</td>\n",
              "      <td>1.0</td>\n",
              "      <td>1.0</td>\n",
              "      <td>1.0</td>\n",
              "      <td>3.0</td>\n",
              "      <td>6</td>\n",
              "      <td>0</td>\n",
              "      <td>5</td>\n",
              "      <td>3.0</td>\n",
              "      <td>5.0</td>\n",
              "      <td>2.0</td>\n",
              "      <td>1.0</td>\n",
              "      <td>1</td>\n",
              "      <td>6.4</td>\n",
              "    </tr>\n",
              "    <tr>\n",
              "      <th>1</th>\n",
              "      <td>46</td>\n",
              "      <td>190.0</td>\n",
              "      <td>1.0</td>\n",
              "      <td>3.0</td>\n",
              "      <td>2.0</td>\n",
              "      <td>1.0</td>\n",
              "      <td>2.0</td>\n",
              "      <td>9.0</td>\n",
              "      <td>0</td>\n",
              "      <td>0</td>\n",
              "      <td>3</td>\n",
              "      <td>1.0</td>\n",
              "      <td>10.0</td>\n",
              "      <td>3.0</td>\n",
              "      <td>1.0</td>\n",
              "      <td>1</td>\n",
              "      <td>19.0</td>\n",
              "    </tr>\n",
              "    <tr>\n",
              "      <th>2</th>\n",
              "      <td>46</td>\n",
              "      <td>180.0</td>\n",
              "      <td>12.0</td>\n",
              "      <td>3.0</td>\n",
              "      <td>2.0</td>\n",
              "      <td>1.0</td>\n",
              "      <td>1.0</td>\n",
              "      <td>4.0</td>\n",
              "      <td>0</td>\n",
              "      <td>0</td>\n",
              "      <td>3</td>\n",
              "      <td>1.0</td>\n",
              "      <td>10.0</td>\n",
              "      <td>3.0</td>\n",
              "      <td>1.0</td>\n",
              "      <td>1</td>\n",
              "      <td>14.0</td>\n",
              "    </tr>\n",
              "    <tr>\n",
              "      <th>3</th>\n",
              "      <td>144</td>\n",
              "      <td>112.0</td>\n",
              "      <td>15.0</td>\n",
              "      <td>2.0</td>\n",
              "      <td>0.0</td>\n",
              "      <td>1.0</td>\n",
              "      <td>1.0</td>\n",
              "      <td>2.0</td>\n",
              "      <td>5</td>\n",
              "      <td>0</td>\n",
              "      <td>0</td>\n",
              "      <td>3.0</td>\n",
              "      <td>4.0</td>\n",
              "      <td>2.0</td>\n",
              "      <td>0.0</td>\n",
              "      <td>1</td>\n",
              "      <td>6.1</td>\n",
              "    </tr>\n",
              "    <tr>\n",
              "      <th>4</th>\n",
              "      <td>46</td>\n",
              "      <td>150.0</td>\n",
              "      <td>6.0</td>\n",
              "      <td>3.0</td>\n",
              "      <td>1.0</td>\n",
              "      <td>1.0</td>\n",
              "      <td>2.0</td>\n",
              "      <td>3.0</td>\n",
              "      <td>6</td>\n",
              "      <td>0</td>\n",
              "      <td>5</td>\n",
              "      <td>2.0</td>\n",
              "      <td>5.0</td>\n",
              "      <td>3.0</td>\n",
              "      <td>1.0</td>\n",
              "      <td>1</td>\n",
              "      <td>12.0</td>\n",
              "    </tr>\n",
              "  </tbody>\n",
              "</table>\n",
              "</div>"
            ],
            "text/plain": [
              "   area  meters  years  rooms  ...  WC_num  master_num  WC_type  sell_value\n",
              "0    14   100.0    0.0    2.0  ...     2.0         1.0        1         6.4\n",
              "1    46   190.0    1.0    3.0  ...     3.0         1.0        1        19.0\n",
              "2    46   180.0   12.0    3.0  ...     3.0         1.0        1        14.0\n",
              "3   144   112.0   15.0    2.0  ...     2.0         0.0        1         6.1\n",
              "4    46   150.0    6.0    3.0  ...     3.0         1.0        1        12.0\n",
              "\n",
              "[5 rows x 17 columns]"
            ]
          },
          "metadata": {
            "tags": []
          },
          "execution_count": 143
        }
      ]
    },
    {
      "cell_type": "markdown",
      "metadata": {
        "id": "9fASmJam7rHx"
      },
      "source": [
        "# Data split to train and test"
      ]
    },
    {
      "cell_type": "code",
      "metadata": {
        "id": "JvHfZ5B067sZ"
      },
      "source": [
        "X_var = df[['area','meters','years','rooms','elevator','storage_area','parking_space','floor','position','terrace','look','units_per_floor','floors','WC_num','master_num','WC_type']].values\n",
        "y_var = df['sell_value'].values\n",
        "X_train, X_test, y_train, y_test = train_test_split(X_var, y_var, test_size = 0.2, random_state = 0)"
      ],
      "execution_count": null,
      "outputs": []
    },
    {
      "cell_type": "markdown",
      "metadata": {
        "id": "jXNb7P-Y_Tay"
      },
      "source": [
        "# Predict price by linear regression"
      ]
    },
    {
      "cell_type": "code",
      "metadata": {
        "id": "QQZuypLk9LBO"
      },
      "source": [
        "ols = LinearRegression()\n",
        "ols.fit(X_train, y_train)\n",
        "ols_yhat = ols.predict(X_test)"
      ],
      "execution_count": null,
      "outputs": []
    },
    {
      "cell_type": "markdown",
      "metadata": {
        "id": "g1-6w_A__YW8"
      },
      "source": [
        "# predict  price by Ridge from sklearn"
      ]
    },
    {
      "cell_type": "code",
      "metadata": {
        "id": "DlIJOu_B-3bv"
      },
      "source": [
        "ridge = Ridge(alpha = 0.5)\n",
        "ridge.fit(X_train, y_train)\n",
        "ridge_yhat = ridge.predict(X_test)"
      ],
      "execution_count": null,
      "outputs": []
    },
    {
      "cell_type": "markdown",
      "metadata": {
        "id": "0YZIDF9Z_3_-"
      },
      "source": [
        "# Evaluate by MSE and R2 evaluation metrics for linear regression\n",
        "\n"
      ]
    },
    {
      "cell_type": "code",
      "metadata": {
        "colab": {
          "base_uri": "https://localhost:8080/"
        },
        "id": "ptblr1VM_w51",
        "outputId": "23f03941-2c14-4309-b1f2-5f309381df60"
      },
      "source": [
        "print('Mean squared error: %.2f'\n",
        "      % mean_squared_error(y_test, ols_yhat))\n",
        "print('Coefficient of determination: %.2f'\n",
        "      % r2_score(y_test, ols_yhat))"
      ],
      "execution_count": null,
      "outputs": [
        {
          "output_type": "stream",
          "text": [
            "Mean squared error: 37.44\n",
            "Coefficient of determination: 0.60\n"
          ],
          "name": "stdout"
        }
      ]
    },
    {
      "cell_type": "markdown",
      "metadata": {
        "id": "FBLAwtrBBUq-"
      },
      "source": [
        "# Evaluate by MSE and R2 evaluation metrics for linear regression\n"
      ]
    },
    {
      "cell_type": "code",
      "metadata": {
        "colab": {
          "base_uri": "https://localhost:8080/"
        },
        "id": "i1LGiyBPBU8N",
        "outputId": "9270000f-11d5-49a3-8cef-6572b0a4f5ac"
      },
      "source": [
        "print('Mean squared error: %.2f'\n",
        "      % mean_squared_error(y_test, ridge_yhat))\n",
        "print('Coefficient of determination: %.2f'\n",
        "      % r2_score(y_test, ridge_yhat))"
      ],
      "execution_count": null,
      "outputs": [
        {
          "output_type": "stream",
          "text": [
            "Mean squared error: 37.45\n",
            "Coefficient of determination: 0.60\n"
          ],
          "name": "stdout"
        }
      ]
    }
  ]
}